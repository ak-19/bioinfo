{
 "cells": [
  {
   "cell_type": "code",
   "execution_count": 1,
   "id": "5176201c",
   "metadata": {},
   "outputs": [],
   "source": [
    "def de_bruijn_ize(t, k):\n",
    "    nodes = set()\n",
    "    edges = []\n",
    "    \n",
    "    for i in range(len(t) - k + 1):\n",
    "        f, s = t[i:i+k-1], t[i + 1:i+k]\n",
    "        edges.append((f, s))\n",
    "        nodes.add(f)\n",
    "        nodes.add(s)\n",
    "    \n",
    "    return edges, nodes\n",
    "    "
   ]
  },
  {
   "cell_type": "code",
   "execution_count": 2,
   "id": "08789a29",
   "metadata": {},
   "outputs": [],
   "source": [
    "edges, nodes = de_bruijn_ize('ACGCGTCG', 3)"
   ]
  },
  {
   "cell_type": "code",
   "execution_count": 3,
   "id": "3e341272",
   "metadata": {},
   "outputs": [
    {
     "data": {
      "text/plain": [
       "{'AC', 'CG', 'GC', 'GT', 'TC'}"
      ]
     },
     "execution_count": 3,
     "metadata": {},
     "output_type": "execute_result"
    }
   ],
   "source": [
    "nodes"
   ]
  },
  {
   "cell_type": "code",
   "execution_count": 4,
   "id": "f1a02f53",
   "metadata": {},
   "outputs": [
    {
     "data": {
      "text/plain": [
       "[('AC', 'CG'),\n",
       " ('CG', 'GC'),\n",
       " ('GC', 'CG'),\n",
       " ('CG', 'GT'),\n",
       " ('GT', 'TC'),\n",
       " ('TC', 'CG')]"
      ]
     },
     "execution_count": 4,
     "metadata": {},
     "output_type": "execute_result"
    }
   ],
   "source": [
    "edges"
   ]
  },
  {
   "cell_type": "code",
   "execution_count": 5,
   "id": "c31a22ac",
   "metadata": {},
   "outputs": [],
   "source": [
    "def visualize_de_bruijn(t, k):\n",
    "    edges, nodes = de_bruijn_ize(t, k)\n",
    "    result = 'digraph \"DeBruijn graph\" {\\n'\n",
    "    for node in nodes:\n",
    "        result += '  %s [label =\"%s\"] ;\\n' % (node, node)        \n",
    "    for src, dst in edges:\n",
    "        result += '  %s -> \"%s\" ;\\n' % (src, dst)\n",
    "        \n",
    "    result += '}\\n'\n",
    "    \n",
    "    return result"
   ]
  },
  {
   "cell_type": "code",
   "execution_count": 6,
   "id": "1fdf068e",
   "metadata": {},
   "outputs": [],
   "source": [
    "%load_ext gvmagic"
   ]
  },
  {
   "cell_type": "code",
   "execution_count": 7,
   "id": "7b63dcc4",
   "metadata": {},
   "outputs": [
    {
     "data": {
      "image/svg+xml": [
       "<svg xmlns=\"http://www.w3.org/2000/svg\" xmlns:xlink=\"http://www.w3.org/1999/xlink\" width=\"161pt\" height=\"260pt\" viewBox=\"0.00 0.00 161.00 260.00\">\n",
       "<g id=\"graph0\" class=\"graph\" transform=\"scale(1 1) rotate(0) translate(4 256)\">\n",
       "<title>DeBruijn graph</title>\n",
       "<polygon fill=\"white\" stroke=\"transparent\" points=\"-4,4 -4,-256 157,-256 157,4 -4,4\"/>\n",
       "<!-- CG -->\n",
       "<g id=\"node1\" class=\"node\">\n",
       "<title>CG</title>\n",
       "<ellipse fill=\"none\" stroke=\"black\" cx=\"63\" cy=\"-162\" rx=\"27\" ry=\"18\"/>\n",
       "<text text-anchor=\"middle\" x=\"63\" y=\"-158.3\" font-family=\"Times,serif\" font-size=\"14.00\">CG</text>\n",
       "</g>\n",
       "<!-- GC -->\n",
       "<g id=\"node4\" class=\"node\">\n",
       "<title>GC</title>\n",
       "<ellipse fill=\"none\" stroke=\"black\" cx=\"27\" cy=\"-90\" rx=\"27\" ry=\"18\"/>\n",
       "<text text-anchor=\"middle\" x=\"27\" y=\"-86.3\" font-family=\"Times,serif\" font-size=\"14.00\">GC</text>\n",
       "</g>\n",
       "<!-- CG&#45;&gt;GC -->\n",
       "<g id=\"edge2\" class=\"edge\">\n",
       "<title>CG-&gt;GC</title>\n",
       "<path fill=\"none\" stroke=\"black\" d=\"M49.73,-146.15C44.38,-137.79 38.57,-127.09 33.99,-117.34\"/>\n",
       "<polygon fill=\"black\" stroke=\"black\" points=\"37.12,-115.77 29.88,-108.04 30.71,-118.6 37.12,-115.77\"/>\n",
       "</g>\n",
       "<!-- GT -->\n",
       "<g id=\"node5\" class=\"node\">\n",
       "<title>GT</title>\n",
       "<ellipse fill=\"none\" stroke=\"black\" cx=\"99\" cy=\"-90\" rx=\"27\" ry=\"18\"/>\n",
       "<text text-anchor=\"middle\" x=\"99\" y=\"-86.3\" font-family=\"Times,serif\" font-size=\"14.00\">GT</text>\n",
       "</g>\n",
       "<!-- CG&#45;&gt;GT -->\n",
       "<g id=\"edge4\" class=\"edge\">\n",
       "<title>CG-&gt;GT</title>\n",
       "<path fill=\"none\" stroke=\"black\" d=\"M71.35,-144.76C75.71,-136.28 81.15,-125.71 86.04,-116.2\"/>\n",
       "<polygon fill=\"black\" stroke=\"black\" points=\"89.23,-117.64 90.7,-107.15 83.01,-114.44 89.23,-117.64\"/>\n",
       "</g>\n",
       "<!-- AC -->\n",
       "<g id=\"node2\" class=\"node\">\n",
       "<title>AC</title>\n",
       "<ellipse fill=\"none\" stroke=\"black\" cx=\"63\" cy=\"-234\" rx=\"27\" ry=\"18\"/>\n",
       "<text text-anchor=\"middle\" x=\"63\" y=\"-230.3\" font-family=\"Times,serif\" font-size=\"14.00\">AC</text>\n",
       "</g>\n",
       "<!-- AC&#45;&gt;CG -->\n",
       "<g id=\"edge1\" class=\"edge\">\n",
       "<title>AC-&gt;CG</title>\n",
       "<path fill=\"none\" stroke=\"black\" d=\"M63,-215.7C63,-207.98 63,-198.71 63,-190.11\"/>\n",
       "<polygon fill=\"black\" stroke=\"black\" points=\"66.5,-190.1 63,-180.1 59.5,-190.1 66.5,-190.1\"/>\n",
       "</g>\n",
       "<!-- TC -->\n",
       "<g id=\"node3\" class=\"node\">\n",
       "<title>TC</title>\n",
       "<ellipse fill=\"none\" stroke=\"black\" cx=\"126\" cy=\"-18\" rx=\"27\" ry=\"18\"/>\n",
       "<text text-anchor=\"middle\" x=\"126\" y=\"-14.3\" font-family=\"Times,serif\" font-size=\"14.00\">TC</text>\n",
       "</g>\n",
       "<!-- TC&#45;&gt;CG -->\n",
       "<g id=\"edge6\" class=\"edge\">\n",
       "<title>TC-&gt;CG</title>\n",
       "<path fill=\"none\" stroke=\"black\" d=\"M132.87,-35.74C139.39,-54.4 146.63,-84.99 135,-108 126.42,-124.98 109.55,-137.85 94.3,-146.65\"/>\n",
       "<polygon fill=\"black\" stroke=\"black\" points=\"92.24,-143.78 85.1,-151.61 95.56,-149.94 92.24,-143.78\"/>\n",
       "</g>\n",
       "<!-- GC&#45;&gt;CG -->\n",
       "<g id=\"edge3\" class=\"edge\">\n",
       "<title>GC-&gt;CG</title>\n",
       "<path fill=\"none\" stroke=\"black\" d=\"M40.3,-105.89C45.66,-114.28 51.48,-125 56.06,-134.75\"/>\n",
       "<polygon fill=\"black\" stroke=\"black\" points=\"52.93,-136.32 60.16,-144.05 59.33,-133.49 52.93,-136.32\"/>\n",
       "</g>\n",
       "<!-- GT&#45;&gt;TC -->\n",
       "<g id=\"edge5\" class=\"edge\">\n",
       "<title>GT-&gt;TC</title>\n",
       "<path fill=\"none\" stroke=\"black\" d=\"M105.4,-72.41C108.51,-64.34 112.33,-54.43 115.83,-45.35\"/>\n",
       "<polygon fill=\"black\" stroke=\"black\" points=\"119.13,-46.55 119.46,-35.96 112.6,-44.03 119.13,-46.55\"/>\n",
       "</g>\n",
       "</g>\n",
       "</svg>"
      ],
      "text/plain": [
       "<IPython.core.display.SVG object>"
      ]
     },
     "metadata": {},
     "output_type": "display_data"
    }
   ],
   "source": [
    "%dotstr  visualize_de_bruijn('ACGCGTCG', 3)"
   ]
  },
  {
   "cell_type": "code",
   "execution_count": null,
   "id": "f6cc243b",
   "metadata": {},
   "outputs": [],
   "source": []
  }
 ],
 "metadata": {
  "kernelspec": {
   "display_name": "Python 3 (ipykernel)",
   "language": "python",
   "name": "python3"
  },
  "language_info": {
   "codemirror_mode": {
    "name": "ipython",
    "version": 3
   },
   "file_extension": ".py",
   "mimetype": "text/x-python",
   "name": "python",
   "nbconvert_exporter": "python",
   "pygments_lexer": "ipython3",
   "version": "3.9.7"
  }
 },
 "nbformat": 4,
 "nbformat_minor": 5
}
