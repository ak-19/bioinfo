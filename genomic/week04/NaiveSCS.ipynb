{
 "cells": [
  {
   "cell_type": "code",
   "execution_count": 4,
   "id": "bf4ae1a1",
   "metadata": {},
   "outputs": [],
   "source": [
    "def overlap(s, p, min_len=3):\n",
    "    start = 0\n",
    "    \n",
    "    while True:\n",
    "        start = s.find(p[:min_len], start)\n",
    "        if start == -1:\n",
    "            return 0\n",
    "        \n",
    "        if p.startswith(s[start:]):\n",
    "            return len(s) - start\n",
    "    \n",
    "        start += 1"
   ]
  },
  {
   "cell_type": "code",
   "execution_count": 5,
   "id": "7bb45c5f",
   "metadata": {},
   "outputs": [
    {
     "data": {
      "text/plain": [
       "3"
      ]
     },
     "execution_count": 5,
     "metadata": {},
     "output_type": "execute_result"
    }
   ],
   "source": [
    "overlap('TGCTTAGT', 'AGTTTCD')"
   ]
  },
  {
   "cell_type": "code",
   "execution_count": 8,
   "id": "acfcf82d",
   "metadata": {},
   "outputs": [],
   "source": [
    "from itertools import permutations\n",
    "\n",
    "def scs(reads):\n",
    "    min_sup = None\n",
    "    R = len(reads)\n",
    "    for perm in permutations(reads):\n",
    "        sup = perm[0]\n",
    "        for i in range(R - 1):\n",
    "            olap = overlap(perm[i], perm[i + 1], 1)\n",
    "            sup += perm[i + 1][olap:]\n",
    "        if min_sup is None or len(sup) < len(min_sup):\n",
    "            min_sup = sup\n",
    "    return min_sup"
   ]
  },
  {
   "cell_type": "code",
   "execution_count": 9,
   "id": "33aac2ad",
   "metadata": {},
   "outputs": [
    {
     "data": {
      "text/plain": [
       "'ACAGACATA'"
      ]
     },
     "execution_count": 9,
     "metadata": {},
     "output_type": "execute_result"
    }
   ],
   "source": [
    "scs(['ACAGA', 'AGACA', 'ACATA'])"
   ]
  },
  {
   "cell_type": "code",
   "execution_count": null,
   "id": "b69ff5f5",
   "metadata": {},
   "outputs": [],
   "source": []
  }
 ],
 "metadata": {
  "kernelspec": {
   "display_name": "Python 3 (ipykernel)",
   "language": "python",
   "name": "python3"
  },
  "language_info": {
   "codemirror_mode": {
    "name": "ipython",
    "version": 3
   },
   "file_extension": ".py",
   "mimetype": "text/x-python",
   "name": "python",
   "nbconvert_exporter": "python",
   "pygments_lexer": "ipython3",
   "version": "3.9.7"
  }
 },
 "nbformat": 4,
 "nbformat_minor": 5
}
