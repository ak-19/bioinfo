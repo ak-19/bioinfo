{
 "cells": [
  {
   "cell_type": "code",
   "execution_count": 2,
   "id": "e861f277",
   "metadata": {},
   "outputs": [],
   "source": [
    "def naive(pattern, text):\n",
    "    P, T = len(pattern), len(text)\n",
    "    occurence = []\n",
    "    \n",
    "    for i in range(T - P + 1):\n",
    "        j = 0 \n",
    "        while j < P:\n",
    "            if pattern[j] != text[j + i]: break\n",
    "            j += 1\n",
    "            \n",
    "        if j == P: occurence.append(i)\n",
    "    \n",
    "    return occurence"
   ]
  },
  {
   "cell_type": "code",
   "execution_count": 3,
   "id": "e39b82ad",
   "metadata": {},
   "outputs": [],
   "source": [
    "def readGenome(filename):\n",
    "    genome = ''\n",
    "    with open(filename, 'r') as f:\n",
    "        for line in f:\n",
    "            # ignore header line with genome information\n",
    "            if not line[0] == '>':\n",
    "                genome += line.rstrip()\n",
    "    return genome"
   ]
  },
  {
   "cell_type": "code",
   "execution_count": 4,
   "id": "8b7c5799",
   "metadata": {},
   "outputs": [],
   "source": [
    "genome = readGenome('019-chr1.GRCh38.excerpt.fasta')"
   ]
  },
  {
   "cell_type": "code",
   "execution_count": 13,
   "id": "0bdeb3a9",
   "metadata": {},
   "outputs": [],
   "source": [
    "alu = 'GGCGCGGTGGCTCACGCCTGTAATCCCAGCACTTTGGGAGGCCGAGG'"
   ]
  },
  {
   "cell_type": "code",
   "execution_count": 14,
   "id": "55897878",
   "metadata": {},
   "outputs": [
    {
     "data": {
      "text/plain": [
       "[56922]"
      ]
     },
     "execution_count": 14,
     "metadata": {},
     "output_type": "execute_result"
    }
   ],
   "source": [
    "naive(alu, genome)"
   ]
  },
  {
   "cell_type": "code",
   "execution_count": 15,
   "id": "4be63958",
   "metadata": {},
   "outputs": [
    {
     "data": {
      "text/plain": [
       "799954"
      ]
     },
     "execution_count": 15,
     "metadata": {},
     "output_type": "execute_result"
    }
   ],
   "source": [
    "len(genome) - len(alu) + 1"
   ]
  },
  {
   "cell_type": "code",
   "execution_count": 16,
   "id": "d4e14d9a",
   "metadata": {},
   "outputs": [],
   "source": [
    "from bm_preproc import BoyerMoore"
   ]
  },
  {
   "cell_type": "code",
   "execution_count": 17,
   "id": "8e37ca1a",
   "metadata": {},
   "outputs": [],
   "source": [
    "def boyer_moore(p, p_bm, t):\n",
    "    \"\"\" Do Boyer-Moore matching. p=pattern, t=text,\n",
    "        p_bm=BoyerMoore object for p \"\"\"\n",
    "    i = 0\n",
    "    occurrences = []\n",
    "    align_count = 0\n",
    "    while i < len(t) - len(p) + 1:\n",
    "        shift = 1\n",
    "        mismatched = False\n",
    "        for j in range(len(p)-1, -1, -1):\n",
    "            align_count += 1\n",
    "            if p[j] != t[i+j]:\n",
    "                skip_bc = p_bm.bad_character_rule(j, t[i+j])\n",
    "                skip_gs = p_bm.good_suffix_rule(j)\n",
    "                shift = max(shift, skip_bc, skip_gs)\n",
    "                mismatched = True\n",
    "                break\n",
    "        if not mismatched:\n",
    "            occurrences.append(i)\n",
    "            skip_gs = p_bm.match_skip()\n",
    "            shift = max(shift, skip_gs)\n",
    "        i += shift\n",
    "    return occurrences, align_count"
   ]
  },
  {
   "cell_type": "code",
   "execution_count": 18,
   "id": "c5cd9b1c",
   "metadata": {},
   "outputs": [],
   "source": [
    "p_bm = BoyerMoore(alu)"
   ]
  },
  {
   "cell_type": "code",
   "execution_count": 20,
   "id": "c297a3f2",
   "metadata": {},
   "outputs": [
    {
     "data": {
      "text/plain": [
       "([56922], 165191)"
      ]
     },
     "execution_count": 20,
     "metadata": {},
     "output_type": "execute_result"
    }
   ],
   "source": [
    "boyer_moore(alu, p_bm, genome)"
   ]
  },
  {
   "cell_type": "code",
   "execution_count": 21,
   "id": "db2f95ec",
   "metadata": {},
   "outputs": [],
   "source": [
    "import bisect\n",
    "class Index(object):\n",
    "    \"\"\" Holds a substring index for a text T \"\"\"\n",
    "\n",
    "    def __init__(self, t, k):\n",
    "        \"\"\" Create index from all substrings of t of length k \"\"\"\n",
    "        self.k = k  # k-mer length (k)\n",
    "        self.index = []\n",
    "        for i in range(len(t) - k + 1):  # for each k-mer\n",
    "            self.index.append((t[i:i+k], i))  # add (k-mer, offset) pair\n",
    "        self.index.sort()  # alphabetize by k-mer\n",
    "\n",
    "    def query(self, p):\n",
    "        \"\"\" Return index hits for first k-mer of p \"\"\"\n",
    "        kmer = p[:self.k]  # query with first k-mer\n",
    "        i = bisect.bisect_left(self.index, (kmer, -1))  # binary search\n",
    "        hits = []\n",
    "        while i < len(self.index):  # collect matching index entries\n",
    "            if self.index[i][0] != kmer:\n",
    "                break\n",
    "            hits.append(self.index[i][1])\n",
    "            i += 1\n",
    "        return hits"
   ]
  },
  {
   "cell_type": "code",
   "execution_count": 22,
   "id": "9444779e",
   "metadata": {},
   "outputs": [],
   "source": [
    "index = Index(genome, 8)"
   ]
  },
  {
   "cell_type": "code",
   "execution_count": 35,
   "id": "a61b32ad",
   "metadata": {},
   "outputs": [],
   "source": [
    "def app_match(p, t, n):\n",
    "    segment_len = round(len(t) / (n+1))\n",
    "    matches = set()\n",
    "    for i in range(n + 1):\n",
    "        start = i * segment_len\n",
    "        end = min((i + 1) * segment_len, len(p))\n",
    "        bm = BoyerMoore(p[start:end], alphabet='ACGT')\n",
    "        curr_matches, a = boyer_moore(p[start:end], bm, t)\n",
    "        for m in curr_matches:\n",
    "            if m < start or m-start+len(p) > len(t): continue\n",
    "                \n",
    "            misses = 0\n",
    "            for j in range(0, start):\n",
    "                if p[j] != p[m-start+j]:\n",
    "                    misses += 1\n",
    "                    if misses > n:\n",
    "                        break\n",
    "            \n",
    "            for j in range(end, len(p)):\n",
    "                if p[j] != p[m-start+j]:\n",
    "                    misses += 1\n",
    "                    if misses > n:\n",
    "                        break                    \n",
    "            \n",
    "            if misses <= n:\n",
    "                matches.add(m-start)\n",
    "        \n",
    "        return list(matches)\n",
    "            \n",
    "            \n",
    "                 \n",
    "        "
   ]
  },
  {
   "cell_type": "code",
   "execution_count": 40,
   "id": "c8dd6211",
   "metadata": {},
   "outputs": [
    {
     "data": {
      "text/plain": [
       "[364263, 717706, 657496, 56922, 262042]"
      ]
     },
     "execution_count": 40,
     "metadata": {},
     "output_type": "execute_result"
    }
   ],
   "source": [
    "app_match('GGCGCGGTGGCTCACGCCTGTAAT', genome, 2)"
   ]
  },
  {
   "cell_type": "code",
   "execution_count": 39,
   "id": "9febb957",
   "metadata": {},
   "outputs": [
    {
     "data": {
      "text/plain": [
       "[56922, 262042, 364263, 657496, 717706]"
      ]
     },
     "execution_count": 39,
     "metadata": {},
     "output_type": "execute_result"
    }
   ],
   "source": [
    "naive('GGCGCGGTGGCTCACGCCTGTAAT', genome)      "
   ]
  },
  {
   "cell_type": "code",
   "execution_count": 41,
   "id": "6d01fe5b",
   "metadata": {},
   "outputs": [],
   "source": [
    "class SubseqIndex(object):\n",
    "    \"\"\" Holds a subsequence index for a text T \"\"\"\n",
    "    \n",
    "    def __init__(self, t, k, ival):\n",
    "        \"\"\" Create index from all subsequences consisting of k characters\n",
    "            spaced ival positions apart.  E.g., SubseqIndex(\"ATAT\", 2, 2)\n",
    "            extracts (\"AA\", 0) and (\"TT\", 1). \"\"\"\n",
    "        self.k = k  # num characters per subsequence extracted\n",
    "        self.ival = ival  # space between them; 1=adjacent, 2=every other, etc\n",
    "        self.index = []\n",
    "        self.span = 1 + ival * (k - 1)\n",
    "        for i in range(len(t) - self.span + 1):  # for each subseq\n",
    "            self.index.append((t[i:i+self.span:ival], i))  # add (subseq, offset)\n",
    "        self.index.sort()  # alphabetize by subseq\n",
    "    \n",
    "    def query(self, p):\n",
    "        \"\"\" Return index hits for first subseq of p \"\"\"\n",
    "        subseq = p[:self.span:self.ival]  # query with first subseq\n",
    "        i = bisect.bisect_left(self.index, (subseq, -1))  # binary search\n",
    "        hits = []\n",
    "        while i < len(self.index):  # collect matching index entries\n",
    "            if self.index[i][0] != subseq:\n",
    "                break\n",
    "            hits.append(self.index[i][1])\n",
    "            i += 1\n",
    "        return hits"
   ]
  },
  {
   "cell_type": "code",
   "execution_count": 44,
   "id": "ddbd090d",
   "metadata": {},
   "outputs": [
    {
     "name": "stdout",
     "output_type": "stream",
     "text": [
      "[('AAA', 0), ('TTT', 1)]\n"
     ]
    }
   ],
   "source": [
    "ind = SubseqIndex('ATATAT', 3, 2)\n",
    "print(ind.index)"
   ]
  },
  {
   "cell_type": "code",
   "execution_count": 45,
   "id": "c1834cc6",
   "metadata": {},
   "outputs": [
    {
     "name": "stdout",
     "output_type": "stream",
     "text": [
      "[]\n"
     ]
    }
   ],
   "source": [
    "p = 'TTATAT'\n",
    "print(ind.query(p[0:]))"
   ]
  },
  {
   "cell_type": "code",
   "execution_count": 46,
   "id": "a56d45bb",
   "metadata": {},
   "outputs": [
    {
     "name": "stdout",
     "output_type": "stream",
     "text": [
      "[1]\n"
     ]
    }
   ],
   "source": [
    "print(ind.query(p[1:]))\n"
   ]
  },
  {
   "cell_type": "code",
   "execution_count": null,
   "id": "9bedce46",
   "metadata": {},
   "outputs": [],
   "source": []
  }
 ],
 "metadata": {
  "kernelspec": {
   "display_name": "Python 3 (ipykernel)",
   "language": "python",
   "name": "python3"
  },
  "language_info": {
   "codemirror_mode": {
    "name": "ipython",
    "version": 3
   },
   "file_extension": ".py",
   "mimetype": "text/x-python",
   "name": "python",
   "nbconvert_exporter": "python",
   "pygments_lexer": "ipython3",
   "version": "3.9.7"
  }
 },
 "nbformat": 4,
 "nbformat_minor": 5
}
