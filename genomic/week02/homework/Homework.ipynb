{
 "cells": [
  {
   "cell_type": "code",
   "execution_count": 116,
   "id": "e861f277",
   "metadata": {},
   "outputs": [],
   "source": [
    "def naive_with_counts(pattern, text):\n",
    "    P, T = len(pattern), len(text)\n",
    "    occurence = []\n",
    "    \n",
    "    character_comparisons = 0 \n",
    "    alignments_tried = 0\n",
    "    \n",
    "    for i in range(T - P + 1):\n",
    "        alignments_tried += 1\n",
    "        j = 0 \n",
    "        while j < P:\n",
    "            character_comparisons += 1\n",
    "            if pattern[j] != text[j + i]: \n",
    "                break\n",
    "            j += 1\n",
    "            \n",
    "        if j == P: occurence.append(i)\n",
    "    \n",
    "    return occurence, alignments_tried, character_comparisons"
   ]
  },
  {
   "cell_type": "code",
   "execution_count": 117,
   "id": "eeef09c5",
   "metadata": {},
   "outputs": [
    {
     "name": "stdout",
     "output_type": "stream",
     "text": [
      "[40] 41 46\n"
     ]
    }
   ],
   "source": [
    "p = 'word'\n",
    "t = 'there would have been a time for such a word'\n",
    "occurrences, num_alignments, num_character_comparisons = naive_with_counts(p, t)\n",
    "print(occurrences, num_alignments, num_character_comparisons)"
   ]
  },
  {
   "cell_type": "code",
   "execution_count": 118,
   "id": "b1c413f2",
   "metadata": {},
   "outputs": [
    {
     "name": "stdout",
     "output_type": "stream",
     "text": [
      "[0, 19] 20 35\n"
     ]
    }
   ],
   "source": [
    "p = 'needle'\n",
    "t = 'needle need noodle needle'\n",
    "occurrences, num_alignments, num_character_comparisons = naive_with_counts(p, t)\n",
    "print(occurrences, num_alignments, num_character_comparisons)"
   ]
  },
  {
   "cell_type": "code",
   "execution_count": 119,
   "id": "e39b82ad",
   "metadata": {},
   "outputs": [],
   "source": [
    "def readGenome(filename):\n",
    "    genome = ''\n",
    "    with open(filename, 'r') as f:\n",
    "        for line in f:\n",
    "            if not line[0] == '>':\n",
    "                genome += line.rstrip()\n",
    "    return genome"
   ]
  },
  {
   "cell_type": "code",
   "execution_count": 120,
   "id": "8b7c5799",
   "metadata": {},
   "outputs": [],
   "source": [
    "genome = readGenome('019-chr1.GRCh38.excerpt.fasta')"
   ]
  },
  {
   "cell_type": "code",
   "execution_count": 123,
   "id": "0bdeb3a9",
   "metadata": {},
   "outputs": [],
   "source": [
    "alu = 'GGCGCGGTGGCTCACGCCTGTAATCCCAGCACTTTGGGAGGCCGAGG'"
   ]
  },
  {
   "cell_type": "code",
   "execution_count": 124,
   "id": "55897878",
   "metadata": {},
   "outputs": [
    {
     "data": {
      "text/plain": [
       "([56922], 799954, 984143)"
      ]
     },
     "execution_count": 124,
     "metadata": {},
     "output_type": "execute_result"
    }
   ],
   "source": [
    "naive_with_counts(alu, genome)"
   ]
  },
  {
   "cell_type": "code",
   "execution_count": 125,
   "id": "d4e14d9a",
   "metadata": {},
   "outputs": [],
   "source": [
    "from bm_preproc import BoyerMoore"
   ]
  },
  {
   "cell_type": "code",
   "execution_count": 126,
   "id": "8e37ca1a",
   "metadata": {},
   "outputs": [],
   "source": [
    "def boyer_moore_with_counts(p, p_bm, t):\n",
    "    i = 0\n",
    "    occurrences = []\n",
    "    alignments_tried, character_comparisons = 0, 0\n",
    "    while i < len(t) - len(p) + 1:\n",
    "        alignments_tried += 1\n",
    "        shift = 1\n",
    "        mismatched = False\n",
    "        for j in range(len(p)-1, -1, -1):\n",
    "            character_comparisons += 1\n",
    "            if p[j] != t[i+j]:\n",
    "                skip_bc = p_bm.bad_character_rule(j, t[i+j])\n",
    "                skip_gs = p_bm.good_suffix_rule(j)\n",
    "                shift = max(shift, skip_bc, skip_gs)\n",
    "                mismatched = True\n",
    "                break\n",
    "        if not mismatched:\n",
    "            occurrences.append(i)\n",
    "            skip_gs = p_bm.match_skip()\n",
    "            shift = max(shift, skip_gs)\n",
    "        i += shift\n",
    "        \n",
    "    return occurrences, alignments_tried, character_comparisons"
   ]
  },
  {
   "cell_type": "code",
   "execution_count": 127,
   "id": "0f18d617",
   "metadata": {},
   "outputs": [
    {
     "name": "stdout",
     "output_type": "stream",
     "text": [
      "[40] 12 15\n"
     ]
    }
   ],
   "source": [
    "p = 'word'\n",
    "t = 'there would have been a time for such a word'\n",
    "lowercase_alphabet = 'abcdefghijklmnopqrstuvwxyz '\n",
    "p_bm = BoyerMoore(p, lowercase_alphabet)\n",
    "occurrences, num_alignments, num_character_comparisons = boyer_moore_with_counts(p, p_bm, t)\n",
    "print(occurrences, num_alignments, num_character_comparisons)"
   ]
  },
  {
   "cell_type": "code",
   "execution_count": 128,
   "id": "57c22053",
   "metadata": {},
   "outputs": [
    {
     "name": "stdout",
     "output_type": "stream",
     "text": [
      "[0, 19] 5 18\n"
     ]
    }
   ],
   "source": [
    "p = 'needle'\n",
    "t = 'needle need noodle needle'\n",
    "p_bm = BoyerMoore(p, lowercase_alphabet)\n",
    "occurrences, num_alignments, num_character_comparisons = boyer_moore_with_counts(p, p_bm, t)\n",
    "print(occurrences, num_alignments, num_character_comparisons)"
   ]
  },
  {
   "cell_type": "code",
   "execution_count": 129,
   "id": "c5cd9b1c",
   "metadata": {},
   "outputs": [],
   "source": [
    "p_bm = BoyerMoore(alu)"
   ]
  },
  {
   "cell_type": "code",
   "execution_count": 130,
   "id": "c297a3f2",
   "metadata": {},
   "outputs": [
    {
     "data": {
      "text/plain": [
       "([56922], 127974, 165191)"
      ]
     },
     "execution_count": 130,
     "metadata": {},
     "output_type": "execute_result"
    }
   ],
   "source": [
    "boyer_moore_with_counts(alu, p_bm, genome)"
   ]
  },
  {
   "cell_type": "code",
   "execution_count": 145,
   "id": "db2f95ec",
   "metadata": {},
   "outputs": [],
   "source": [
    "import bisect\n",
    "class Index(object):\n",
    "    \"\"\" Holds a substring index for a text T \"\"\"\n",
    "\n",
    "    def __init__(self, t, k):\n",
    "        \"\"\" Create index from all substrings of t of length k \"\"\"\n",
    "        self.k = k  # k-mer length (k)\n",
    "        self.index = []\n",
    "        for i in range(len(t) - k + 1):  # for each k-mer\n",
    "            self.index.append((t[i:i+k], i))  # add (k-mer, offset) pair\n",
    "        self.index.sort()  # alphabetize by k-mer\n",
    "\n",
    "    def query(self, p):\n",
    "        n = 2\n",
    "        kmer = p[:self.k]  # query with first k-mer\n",
    "        i = bisect.bisect_left(self.index, (kmer, -1))  # binary search\n",
    "        hits = []\n",
    "        while i < len(self.index):  # collect matching index entries\n",
    "            candidate = self.index[i][0]\n",
    "            misses = 0\n",
    "            for j in range(0, len(candidate)):\n",
    "                if candidate[j] != p[j]:\n",
    "                    misses += 1\n",
    "                    if misses > n:\n",
    "                        break\n",
    "            if misses <= n:   \n",
    "                hits.append(self.index[i][1])\n",
    "            i += 1\n",
    "        return len(hits)"
   ]
  },
  {
   "cell_type": "code",
   "execution_count": 146,
   "id": "9444779e",
   "metadata": {},
   "outputs": [
    {
     "name": "stdout",
     "output_type": "stream",
     "text": [
      "300\n"
     ]
    }
   ],
   "source": [
    "index = Index(genome, 8)\n",
    "print(index.query('GGCGCGGTGGCTCACGCCTGTAAT'))"
   ]
  },
  {
   "cell_type": "code",
   "execution_count": 147,
   "id": "552fe3b4",
   "metadata": {},
   "outputs": [],
   "source": [
    "def naive_2mm(pattern, text):\n",
    "    P, T = len(pattern), len(text)\n",
    "    occurence = []\n",
    "    for i in range(T - P + 1):\n",
    "        j = 0 \n",
    "        mm = 0        \n",
    "        while j < P:\n",
    "            if pattern[j] != text[j + i]: \n",
    "                mm += 1\n",
    "                if mm > 2: break\n",
    "            j += 1\n",
    "            \n",
    "        if j == P: occurence.append(i)\n",
    "    \n",
    "    return occurence"
   ]
  },
  {
   "cell_type": "code",
   "execution_count": 184,
   "id": "417c0e92",
   "metadata": {},
   "outputs": [
    {
     "name": "stdout",
     "output_type": "stream",
     "text": [
      "[56922, 84641, 147558, 160162, 160729, 191452, 262042, 273669, 364263, 421221, 429299, 465647, 551134, 635931, 657496, 681737, 717706, 724927, 747359] 19\n"
     ]
    }
   ],
   "source": [
    "occ = naive_2mm('GGCGCGGTGGCTCACGCCTGTAAT', genome)\n",
    "print(occ, len(occ))"
   ]
  },
  {
   "cell_type": "code",
   "execution_count": 189,
   "id": "70dd9a2f",
   "metadata": {},
   "outputs": [
    {
     "name": "stdout",
     "output_type": "stream",
     "text": [
      "GGCGCGGTGGCTCATGCCTGTAAT\n",
      "GGCGCGGTGGCTCACGCCTGTAAT\n"
     ]
    }
   ],
   "source": [
    "print(genome[147558:147558+24])\n",
    "print('GGCGCGGTGGCTCACGCCTGTAAT')"
   ]
  },
  {
   "cell_type": "code",
   "execution_count": 76,
   "id": "a61b32ad",
   "metadata": {},
   "outputs": [],
   "source": [
    "def app_match(p, t, n):\n",
    "    segment_len = round(len(t) / (n+1))\n",
    "    matches = set()\n",
    "    for i in range(n + 1):\n",
    "        start = i * segment_len\n",
    "        end = min((i + 1) * segment_len, len(p))\n",
    "        bm = BoyerMoore(p[start:end], alphabet='ACGT')\n",
    "        curr_matches, a, b = boyer_moore_with_counts(p[start:end], bm, t)\n",
    "        for m in curr_matches:\n",
    "            if m < start or m-start+len(p) > len(t): continue\n",
    "                \n",
    "            misses = 0\n",
    "            for j in range(0, start):\n",
    "                if p[j] != p[m-start+j]:\n",
    "                    misses += 1\n",
    "                    if misses > n:\n",
    "                        break\n",
    "            \n",
    "            for j in range(end, len(p)):\n",
    "                if p[j] != p[m-start+j]:\n",
    "                    misses += 1\n",
    "                    if misses > n:\n",
    "                        break                    \n",
    "            \n",
    "            if misses <= n:\n",
    "                matches.add(m-start)\n",
    "        \n",
    "        return list(matches), a, b\n",
    "            \n",
    "            \n",
    "                 \n",
    "        "
   ]
  },
  {
   "cell_type": "code",
   "execution_count": 77,
   "id": "c8dd6211",
   "metadata": {},
   "outputs": [
    {
     "data": {
      "text/plain": [
       "([364263, 717706, 657496, 56922, 262042], 126203, 196873)"
      ]
     },
     "execution_count": 77,
     "metadata": {},
     "output_type": "execute_result"
    }
   ],
   "source": [
    "app_match('GGCGCGGTGGCTCACGCCTGTAAT', genome, 2)"
   ]
  },
  {
   "cell_type": "code",
   "execution_count": 78,
   "id": "9febb957",
   "metadata": {},
   "outputs": [
    {
     "data": {
      "text/plain": [
       "([56922, 262042, 364263, 657496, 717706], 799977, 984116)"
      ]
     },
     "execution_count": 78,
     "metadata": {},
     "output_type": "execute_result"
    }
   ],
   "source": [
    "naive_with_counts('GGCGCGGTGGCTCACGCCTGTAAT', genome)      "
   ]
  },
  {
   "cell_type": "code",
   "execution_count": 79,
   "id": "6d01fe5b",
   "metadata": {},
   "outputs": [],
   "source": [
    "class SubseqIndex(object):\n",
    "    \"\"\" Holds a subsequence index for a text T \"\"\"\n",
    "    def __init__(self, t, k, ival):\n",
    "        \"\"\" Create index from all subsequences consisting of k characters\n",
    "            spaced ival positions apart.  E.g., SubseqIndex(\"ATAT\", 2, 2)\n",
    "            extracts (\"AA\", 0) and (\"TT\", 1). \"\"\"\n",
    "        self.k = k  # num characters per subsequence extracted\n",
    "        self.ival = ival  # space between them; 1=adjacent, 2=every other, etc\n",
    "        self.index = []\n",
    "        self.span = 1 + ival * (k - 1)\n",
    "        for i in range(len(t) - self.span + 1):  # for each subseq\n",
    "            self.index.append((t[i:i+self.span:ival], i))  # add (subseq, offset)\n",
    "        self.index.sort()  # alphabetize by subseq\n",
    "    \n",
    "    def query(self, p):\n",
    "        \"\"\" Return index hits for first subseq of p \"\"\"\n",
    "        subseq = p[:self.span:self.ival]  # query with first subseq\n",
    "        i = bisect.bisect_left(self.index, (subseq, -1))  # binary search\n",
    "        hits = []\n",
    "        while i < len(self.index):  # collect matching index entries\n",
    "            if self.index[i][0] != subseq:\n",
    "                break\n",
    "            hits.append(self.index[i][1])\n",
    "            i += 1\n",
    "        return hits"
   ]
  },
  {
   "cell_type": "code",
   "execution_count": 80,
   "id": "ddbd090d",
   "metadata": {},
   "outputs": [
    {
     "name": "stdout",
     "output_type": "stream",
     "text": [
      "[('AAA', 0), ('TTT', 1)]\n"
     ]
    }
   ],
   "source": [
    "ind = SubseqIndex('ATATAT', 3, 2)\n",
    "print(ind.index)"
   ]
  },
  {
   "cell_type": "code",
   "execution_count": 81,
   "id": "c1834cc6",
   "metadata": {},
   "outputs": [
    {
     "name": "stdout",
     "output_type": "stream",
     "text": [
      "[]\n"
     ]
    }
   ],
   "source": [
    "p = 'TTATAT'\n",
    "print(ind.query(p[0:]))"
   ]
  },
  {
   "cell_type": "code",
   "execution_count": 82,
   "id": "a56d45bb",
   "metadata": {},
   "outputs": [
    {
     "name": "stdout",
     "output_type": "stream",
     "text": [
      "[1]\n"
     ]
    }
   ],
   "source": [
    "print(ind.query(p[1:]))\n"
   ]
  },
  {
   "cell_type": "code",
   "execution_count": 200,
   "id": "9bedce46",
   "metadata": {},
   "outputs": [],
   "source": [
    "def query_subseq(p, t, ind):\n",
    "    n = 2\n",
    "    all_matches = set()\n",
    "    num_index_hits = 0\n",
    "    P = len(p)\n",
    "    T = len(t)\n",
    "    for i in range(P - ind.k + 1):\n",
    "        cut = p[i:]\n",
    "        matches = ind.query(cut)\n",
    "#         Extend matching segments to see if whole p matches\n",
    "        for m in matches:\n",
    "            num_index_hits += 1\n",
    "            mismatches = 0\n",
    "            for j in range(P):\n",
    "                if not p[j] == t[m+j]:\n",
    "                    mismatches += 1\n",
    "                    if mismatches > n:\n",
    "                        break\n",
    "\n",
    "            if mismatches <= n:\n",
    "                all_matches.add(m)\n",
    "    return list(all_matches), num_index_hits"
   ]
  },
  {
   "cell_type": "code",
   "execution_count": 201,
   "id": "fb0d0059",
   "metadata": {},
   "outputs": [],
   "source": [
    "t = 'to-morrow and to-morrow and to-morrow creeps in this petty pace'\n",
    "p = 'to-morrow and to-morrow '\n",
    "subseq_ind = SubseqIndex(t, 8, 3)"
   ]
  },
  {
   "cell_type": "code",
   "execution_count": 202,
   "id": "1114afed",
   "metadata": {},
   "outputs": [],
   "source": [
    "occurrences, num_index_hits = query_subseq(p, t, subseq_ind)"
   ]
  },
  {
   "cell_type": "code",
   "execution_count": 203,
   "id": "6c676a8b",
   "metadata": {},
   "outputs": [
    {
     "name": "stdout",
     "output_type": "stream",
     "text": [
      "[0, 14]\n"
     ]
    }
   ],
   "source": [
    "print(occurrences)"
   ]
  },
  {
   "cell_type": "code",
   "execution_count": 204,
   "id": "720e8fbc",
   "metadata": {},
   "outputs": [
    {
     "name": "stdout",
     "output_type": "stream",
     "text": [
      "6\n"
     ]
    }
   ],
   "source": [
    "print(num_index_hits)"
   ]
  },
  {
   "cell_type": "code",
   "execution_count": 205,
   "id": "347957ba",
   "metadata": {},
   "outputs": [],
   "source": [
    "p = 'GGCGCGGTGGCTCACGCCTGTAAT'\n",
    "subseq_ind = SubseqIndex(genome, 8, 3)"
   ]
  },
  {
   "cell_type": "code",
   "execution_count": 206,
   "id": "35cbaf36",
   "metadata": {},
   "outputs": [],
   "source": [
    "occurrences, num_index_hits = query_subseq(p, genome, subseq_ind)"
   ]
  },
  {
   "cell_type": "code",
   "execution_count": 207,
   "id": "a4165285",
   "metadata": {},
   "outputs": [
    {
     "name": "stdout",
     "output_type": "stream",
     "text": [
      "[84641, 273669, 147558, 364263, 681737, 717706, 465647, 747359, 657496, 56922, 635931, 191452, 262042]\n"
     ]
    }
   ],
   "source": [
    "print(occurrences)"
   ]
  },
  {
   "cell_type": "code",
   "execution_count": 208,
   "id": "15c10178",
   "metadata": {},
   "outputs": [
    {
     "name": "stdout",
     "output_type": "stream",
     "text": [
      "79\n"
     ]
    }
   ],
   "source": [
    "print(num_index_hits)"
   ]
  },
  {
   "cell_type": "code",
   "execution_count": null,
   "id": "6c135743",
   "metadata": {},
   "outputs": [],
   "source": []
  }
 ],
 "metadata": {
  "kernelspec": {
   "display_name": "Python 3 (ipykernel)",
   "language": "python",
   "name": "python3"
  },
  "language_info": {
   "codemirror_mode": {
    "name": "ipython",
    "version": 3
   },
   "file_extension": ".py",
   "mimetype": "text/x-python",
   "name": "python",
   "nbconvert_exporter": "python",
   "pygments_lexer": "ipython3",
   "version": "3.9.7"
  }
 },
 "nbformat": 4,
 "nbformat_minor": 5
}
