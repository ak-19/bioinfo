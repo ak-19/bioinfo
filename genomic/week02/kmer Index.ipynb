{
 "cells": [
  {
   "cell_type": "code",
   "execution_count": 1,
   "id": "461edab2",
   "metadata": {},
   "outputs": [],
   "source": [
    "import bisect"
   ]
  },
  {
   "cell_type": "code",
   "execution_count": 33,
   "id": "615ab725",
   "metadata": {},
   "outputs": [],
   "source": [
    "class Index:\n",
    "    def __init__(self, t, k):\n",
    "        self.k = k\n",
    "        self.index = []\n",
    "        for i in range(len(t) + 1 - k):\n",
    "            self.index.append((t[i:i+k], i))\n",
    "        self.index.sort()\n",
    "    \n",
    "    def query(self, p):\n",
    "        kmer = p[:self.k]                \n",
    "        result = []\n",
    "        for i in range(bisect.bisect_left(self.index, (kmer, -1)), len(self.index)):\n",
    "            if self.index[i][0] != kmer: break\n",
    "            result.append(self.index[i][1])            \n",
    "        return result        "
   ]
  },
  {
   "cell_type": "code",
   "execution_count": 36,
   "id": "e965d025",
   "metadata": {},
   "outputs": [],
   "source": [
    "def index_query(t, p, index):\n",
    "    k = index.k\n",
    "    result = []\n",
    "    for i in index.query(p):\n",
    "        if t[i+k:i+len(p)] == p[k:]:\n",
    "            result.append(i)\n",
    "        \n",
    "    return result"
   ]
  },
  {
   "cell_type": "code",
   "execution_count": 39,
   "id": "660263a3",
   "metadata": {},
   "outputs": [],
   "source": [
    "text = 'AGACGATTATAATAGCAA'\n",
    "index = Index(text, 3)"
   ]
  },
  {
   "cell_type": "code",
   "execution_count": 42,
   "id": "ee563448",
   "metadata": {},
   "outputs": [
    {
     "data": {
      "text/plain": [
       "[11]"
      ]
     },
     "execution_count": 42,
     "metadata": {},
     "output_type": "execute_result"
    }
   ],
   "source": [
    "index_query(text, 'ATAG', index)"
   ]
  },
  {
   "cell_type": "code",
   "execution_count": null,
   "id": "374f9a38",
   "metadata": {},
   "outputs": [],
   "source": []
  }
 ],
 "metadata": {
  "kernelspec": {
   "display_name": "Python 3 (ipykernel)",
   "language": "python",
   "name": "python3"
  },
  "language_info": {
   "codemirror_mode": {
    "name": "ipython",
    "version": 3
   },
   "file_extension": ".py",
   "mimetype": "text/x-python",
   "name": "python",
   "nbconvert_exporter": "python",
   "pygments_lexer": "ipython3",
   "version": "3.9.7"
  }
 },
 "nbformat": 4,
 "nbformat_minor": 5
}
