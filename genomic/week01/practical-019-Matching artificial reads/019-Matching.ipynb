{
 "cells": [
  {
   "cell_type": "code",
   "execution_count": 59,
   "id": "425e5f5f",
   "metadata": {},
   "outputs": [
    {
     "name": "stdout",
     "output_type": "stream",
     "text": [
      "--2021-11-29 19:39:54--  https://d28rh4a8wq0iu5.cloudfront.net/ads1/data/lambda_virus.fa\n",
      "Resolving d28rh4a8wq0iu5.cloudfront.net (d28rh4a8wq0iu5.cloudfront.net)... 99.86.247.194, 99.86.247.38, 99.86.247.6, ...\n",
      "Connecting to d28rh4a8wq0iu5.cloudfront.net (d28rh4a8wq0iu5.cloudfront.net)|99.86.247.194|:443... connected.\n",
      "HTTP request sent, awaiting response... 200 OK\n",
      "Length: 49270 (48K) [application/octet-stream]\n",
      "Saving to: ‘lambda_virus.fa’\n",
      "\n",
      "lambda_virus.fa     100%[===================>]  48,12K  --.-KB/s    in 0,03s   \n",
      "\n",
      "2021-11-29 19:39:54 (1,71 MB/s) - ‘lambda_virus.fa’ saved [49270/49270]\n",
      "\n"
     ]
    }
   ],
   "source": [
    "!wget https://d28rh4a8wq0iu5.cloudfront.net/ads1/data/lambda_virus.fa\n",
    "from random import randint\n",
    "def naive(pattern, text):\n",
    "    P, T = len(pattern), len(text)\n",
    "    occurence = []\n",
    "    \n",
    "    for i in range(T - P + 1):\n",
    "        j = 0 \n",
    "        while j < P:\n",
    "            if pattern[j] != text[j + i]: break\n",
    "            j += 1\n",
    "            \n",
    "        if j == P: occurence.append(i)\n",
    "    \n",
    "    return occurence"
   ]
  },
  {
   "cell_type": "code",
   "execution_count": 4,
   "id": "e558bf6b",
   "metadata": {},
   "outputs": [],
   "source": [
    "def readGenome(filename):\n",
    "    genome = ''\n",
    "    with open(filename, 'r') as f:\n",
    "        for line in f:\n",
    "            # ignore header line with genome information\n",
    "            if not line[0] == '>':\n",
    "                genome += line.rstrip()\n",
    "    return genome"
   ]
  },
  {
   "cell_type": "code",
   "execution_count": 5,
   "id": "65eee6c6",
   "metadata": {},
   "outputs": [],
   "source": [
    "def generate_random_reads():\n",
    "    reads = []\n",
    "    \n",
    "    for _ in range(100):\n",
    "        index = randint(0, G-10)\n",
    "        reads.append(genome[index:index + 10])\n",
    "    return reads"
   ]
  },
  {
   "cell_type": "code",
   "execution_count": 6,
   "id": "2d515f3c",
   "metadata": {},
   "outputs": [],
   "source": [
    "def readFastq(filename):\n",
    "    sequences = []\n",
    "    qualities = []\n",
    "    with open(filename) as fh:\n",
    "        while True:\n",
    "            fh.readline() # skip name line\n",
    "            seq = fh.readline().rstrip() # read base sequence\n",
    "            fh.readline() # skip placeholder line\n",
    "            qual = fh.readline().rstrip() # base quality line\n",
    "            if len(seq) == 0:\n",
    "                break\n",
    "            sequences.append(seq)\n",
    "            qualities.append(qual)\n",
    "    return sequences, qualities"
   ]
  },
  {
   "cell_type": "code",
   "execution_count": 7,
   "id": "9918d9a3",
   "metadata": {},
   "outputs": [],
   "source": [
    "def reverseComplement(s):\n",
    "    complement = {'A': 'T', 'C': 'G', 'G': 'C', 'T': 'A', 'N': 'N'}\n",
    "    t = ''\n",
    "    for base in s:\n",
    "        t = complement[base] + t\n",
    "    return t"
   ]
  },
  {
   "cell_type": "code",
   "execution_count": 60,
   "id": "3b66f01c",
   "metadata": {},
   "outputs": [],
   "source": [
    "genome = readGenome('lambda_virus.fa')\n",
    "G = len(genome)"
   ]
  },
  {
   "cell_type": "code",
   "execution_count": 61,
   "id": "ab01e14f",
   "metadata": {},
   "outputs": [],
   "source": [
    "random_reads = generate_random_reads()"
   ]
  },
  {
   "cell_type": "code",
   "execution_count": 62,
   "id": "0cb92ce5",
   "metadata": {},
   "outputs": [],
   "source": [
    "def count_matches(reads, gen):\n",
    "    matched = 0\n",
    "\n",
    "    for read in reads:\n",
    "        if len(naive(read, gen)) > 0:\n",
    "            matched += 1\n",
    "\n",
    "    print( '%d / %d matches' % (matched, len(reads)) )\n",
    "    "
   ]
  },
  {
   "cell_type": "code",
   "execution_count": 63,
   "id": "d54c2e66",
   "metadata": {},
   "outputs": [
    {
     "name": "stdout",
     "output_type": "stream",
     "text": [
      "100 / 100 matches\n"
     ]
    }
   ],
   "source": [
    "count_matches(random_reads, genome)"
   ]
  },
  {
   "cell_type": "code",
   "execution_count": 64,
   "id": "b79cea90",
   "metadata": {},
   "outputs": [],
   "source": [
    "# reads,_ = readFastq('ERR266411_1.first1000.fastq')"
   ]
  },
  {
   "cell_type": "code",
   "execution_count": 65,
   "id": "de20886b",
   "metadata": {},
   "outputs": [],
   "source": [
    "# count_matches(reads, genome)"
   ]
  },
  {
   "cell_type": "code",
   "execution_count": 66,
   "id": "9477264b",
   "metadata": {},
   "outputs": [],
   "source": [
    "# def count_reduced_matches(reads, gen):\n",
    "#     matched = 0\n",
    "\n",
    "#     for read in reads:\n",
    "#         if len(naive(read[:30], gen)) > 0 or len(naive(reverseComplement(read[:30]), gen)) > 0:\n",
    "#             matched += 1\n",
    "        \n",
    "\n",
    "#     print( '%d / %d matches' % (matched, len(reads)) )"
   ]
  },
  {
   "cell_type": "code",
   "execution_count": 67,
   "id": "f9562789",
   "metadata": {},
   "outputs": [],
   "source": [
    "# count_reduced_matches(reads, genome)"
   ]
  },
  {
   "cell_type": "code",
   "execution_count": 127,
   "id": "4743e6be",
   "metadata": {},
   "outputs": [
    {
     "name": "stdout",
     "output_type": "stream",
     "text": [
      "306  count\n"
     ]
    }
   ],
   "source": [
    "#1.\n",
    "pattern = 'AGGT'\n",
    "count = len(naive(pattern, genome)) + len(naive(reverseComplement(pattern), genome))\n",
    "\n",
    "\n",
    "print( '%d  count' % (count) )"
   ]
  },
  {
   "cell_type": "code",
   "execution_count": 74,
   "id": "10ff3f32",
   "metadata": {},
   "outputs": [
    {
     "name": "stdout",
     "output_type": "stream",
     "text": [
      "195  count\n"
     ]
    }
   ],
   "source": [
    "# 2.\n",
    "pat2 = 'TTAA'\n",
    "count = len(naive(pat2, genome))\n",
    "\n",
    "\n",
    "print( '%d  count' % (count) )"
   ]
  },
  {
   "cell_type": "code",
   "execution_count": 80,
   "id": "f7d50705",
   "metadata": {},
   "outputs": [
    {
     "name": "stdout",
     "output_type": "stream",
     "text": [
      "27733 26028\n"
     ]
    }
   ],
   "source": [
    "# 3.\n",
    "pat3 = 'ACTAAGT'\n",
    "i1 = genome.index(pat3)\n",
    "i2 = genome.index(reverseComplement(pat3))\n",
    "print(i1,i2)"
   ]
  },
  {
   "cell_type": "code",
   "execution_count": 128,
   "id": "354d6ab9",
   "metadata": {},
   "outputs": [
    {
     "name": "stdout",
     "output_type": "stream",
     "text": [
      "18005 450\n"
     ]
    }
   ],
   "source": [
    "# 4.\n",
    "pat4 = 'AGTCGA'\n",
    "i_4 = genome.index(pat4)\n",
    "i_42 = genome.index(reverseComplement(pat4))\n",
    "print(i_4,i_42)"
   ]
  },
  {
   "cell_type": "code",
   "execution_count": 102,
   "id": "05716d4a",
   "metadata": {},
   "outputs": [],
   "source": [
    "def naive_2mm(pattern, text):\n",
    "    P, T = len(pattern), len(text)\n",
    "    occurence = []\n",
    "    for i in range(T - P + 1):\n",
    "        j = 0 \n",
    "        mm = 0        \n",
    "        while j < P:\n",
    "            if pattern[j] != text[j + i]: \n",
    "                mm += 1\n",
    "                if mm > 2: break\n",
    "            j += 1\n",
    "            \n",
    "        if j == P: occurence.append(i)\n",
    "    \n",
    "    return occurence"
   ]
  },
  {
   "cell_type": "code",
   "execution_count": 103,
   "id": "551a9fbc",
   "metadata": {},
   "outputs": [
    {
     "data": {
      "text/plain": [
       "[0, 4]"
      ]
     },
     "execution_count": 103,
     "metadata": {},
     "output_type": "execute_result"
    }
   ],
   "source": [
    "t = 'ACTTACTTGATAAAGT'\n",
    "p = 'ACTTTA'\n",
    "naive_2mm('ACTTTA', 'ACTTACTTGATAAAGT')"
   ]
  },
  {
   "cell_type": "code",
   "execution_count": 106,
   "id": "733e4840",
   "metadata": {},
   "outputs": [
    {
     "data": {
      "text/plain": [
       "191"
      ]
     },
     "execution_count": 106,
     "metadata": {},
     "output_type": "execute_result"
    }
   ],
   "source": [
    "len(naive_2mm('TTCAAGCC', genome))"
   ]
  },
  {
   "cell_type": "code",
   "execution_count": 111,
   "id": "4eb40ed8",
   "metadata": {},
   "outputs": [
    {
     "data": {
      "text/plain": [
       "49"
      ]
     },
     "execution_count": 111,
     "metadata": {},
     "output_type": "execute_result"
    }
   ],
   "source": [
    "naive_2mm('AGGAGGTT', genome)[0]"
   ]
  },
  {
   "cell_type": "code",
   "execution_count": 112,
   "id": "449ff56e",
   "metadata": {},
   "outputs": [
    {
     "name": "stdout",
     "output_type": "stream",
     "text": [
      "--2021-11-29 20:07:25--  https://d28rh4a8wq0iu5.cloudfront.net/ads1/data/ERR037900_1.first1000.fastq\n",
      "Resolving d28rh4a8wq0iu5.cloudfront.net (d28rh4a8wq0iu5.cloudfront.net)... 99.86.247.194, 99.86.247.38, 99.86.247.6, ...\n",
      "Connecting to d28rh4a8wq0iu5.cloudfront.net (d28rh4a8wq0iu5.cloudfront.net)|99.86.247.194|:443... connected.\n",
      "HTTP request sent, awaiting response... 200 OK\n",
      "Length: 241626 (236K) [application/octet-stream]\n",
      "Saving to: ‘ERR037900_1.first1000.fastq’\n",
      "\n",
      "ERR037900_1.first10 100%[===================>] 235,96K   819KB/s    in 0,3s    \n",
      "\n",
      "2021-11-29 20:07:26 (819 KB/s) - ‘ERR037900_1.first1000.fastq’ saved [241626/241626]\n",
      "\n"
     ]
    }
   ],
   "source": [
    "!wget  https://d28rh4a8wq0iu5.cloudfront.net/ads1/data/ERR037900_1.first1000.fastq"
   ]
  },
  {
   "cell_type": "code",
   "execution_count": 116,
   "id": "87df85a8",
   "metadata": {},
   "outputs": [],
   "source": [
    "reads,_ = readFastq('ERR037900_1.first1000.fastq')"
   ]
  },
  {
   "cell_type": "code",
   "execution_count": 118,
   "id": "99b145bd",
   "metadata": {},
   "outputs": [],
   "source": [
    "%matplotlib inline\n",
    "import matplotlib.pyplot as plt"
   ]
  },
  {
   "cell_type": "code",
   "execution_count": 121,
   "id": "31e2965e",
   "metadata": {},
   "outputs": [],
   "source": [
    "gc = [0] * 100\n",
    "total = [0] * 100\n",
    "for read in reads:\n",
    "    for i in range(100):\n",
    "        if read[i] in 'GC':\n",
    "            gc[i] += 1\n",
    "        total[i] += 1\n",
    "p = [0] * 100\n",
    "for i in range(100):\n",
    "    if total[i] > 0:\n",
    "        p[i] = gc[i]/float(total[i])        "
   ]
  },
  {
   "cell_type": "code",
   "execution_count": 122,
   "id": "28e7455b",
   "metadata": {},
   "outputs": [
    {
     "data": {
      "image/png": "[encoded data removed]",
      "text/plain": [
       "<Figure size 432x288 with 1 Axes>"
      ]
     },
     "metadata": {
      "needs_background": "light"
     },
     "output_type": "display_data"
    }
   ],
   "source": [
    "plt.plot(range(100), p)\n",
    "plt.show()"
   ]
  },
  {
   "cell_type": "code",
   "execution_count": 123,
   "id": "8ebd9187",
   "metadata": {},
   "outputs": [],
   "source": [
    "min_val = min(p)"
   ]
  },
  {
   "cell_type": "code",
   "execution_count": 124,
   "id": "39efd5c2",
   "metadata": {},
   "outputs": [
    {
     "data": {
      "text/plain": [
       "0.055"
      ]
     },
     "execution_count": 124,
     "metadata": {},
     "output_type": "execute_result"
    }
   ],
   "source": [
    "min_val"
   ]
  },
  {
   "cell_type": "code",
   "execution_count": 125,
   "id": "9629ad15",
   "metadata": {},
   "outputs": [
    {
     "data": {
      "text/plain": [
       "66"
      ]
     },
     "execution_count": 125,
     "metadata": {},
     "output_type": "execute_result"
    }
   ],
   "source": [
    "p.index(min_val)"
   ]
  },
  {
   "cell_type": "code",
   "execution_count": 126,
   "id": "a3c911bb",
   "metadata": {},
   "outputs": [
    {
     "data": {
      "text/plain": [
       "0.055"
      ]
     },
     "execution_count": 126,
     "metadata": {},
     "output_type": "execute_result"
    }
   ],
   "source": [
    "p[66]"
   ]
  },
  {
   "cell_type": "code",
   "execution_count": null,
   "id": "3c6a9327",
   "metadata": {},
   "outputs": [],
   "source": []
  }
 ],
 "metadata": {
  "kernelspec": {
   "display_name": "Python 3 (ipykernel)",
   "language": "python",
   "name": "python3"
  },
  "language_info": {
   "codemirror_mode": {
    "name": "ipython",
    "version": 3
   },
   "file_extension": ".py",
   "mimetype": "text/x-python",
   "name": "python",
   "nbconvert_exporter": "python",
   "pygments_lexer": "ipython3",
   "version": "3.9.7"
  }
 },
 "nbformat": 4,
 "nbformat_minor": 5
}
