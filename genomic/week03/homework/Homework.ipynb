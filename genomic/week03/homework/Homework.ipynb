{
 "cells": [
  {
   "cell_type": "code",
   "execution_count": 19,
   "id": "455e865f",
   "metadata": {},
   "outputs": [],
   "source": [
    "def editDistance(x, y):\n",
    "    # Create distance matrix\n",
    "    D = []\n",
    "    for i in range(len(x)+1):\n",
    "        D.append([0]*(len(y)+1))\n",
    "    # Initialize first row and column of matrix\n",
    "    for i in range(len(x)+1):\n",
    "        D[i][0] = i\n",
    "    for i in range(len(y)+1):\n",
    "        D[0][i] = 0\n",
    "    # Fill in the rest of the matrix\n",
    "    for i in range(1, len(x)+1):\n",
    "        for j in range(1, len(y)+1):\n",
    "            distHor = D[i][j-1] + 1\n",
    "            distVer = D[i-1][j] + 1\n",
    "            if x[i-1] == y[j-1]:\n",
    "                distDiag = D[i-1][j-1]\n",
    "            else:\n",
    "                distDiag = D[i-1][j-1] + 1\n",
    "            D[i][j] = min(distHor, distVer, distDiag)\n",
    "    # Edit distance is the value in the bottom right corner of the matrix\n",
    "    return min(D[-1])"
   ]
  },
  {
   "cell_type": "code",
   "execution_count": 20,
   "id": "a57cd80e",
   "metadata": {},
   "outputs": [],
   "source": [
    "def readGenome(filename):\n",
    "    genome = ''\n",
    "    with open(filename, 'r') as f:\n",
    "        for line in f:\n",
    "            # ignore header line with genome information\n",
    "            if not line[0] == '>':\n",
    "                genome += line.rstrip()\n",
    "    return genome"
   ]
  },
  {
   "cell_type": "code",
   "execution_count": 21,
   "id": "e1ce6194",
   "metadata": {},
   "outputs": [],
   "source": [
    "genome = readGenome('chr1.GRCh38.excerpt.fasta')"
   ]
  },
  {
   "cell_type": "code",
   "execution_count": 26,
   "id": "d9412a1c",
   "metadata": {},
   "outputs": [
    {
     "data": {
      "text/plain": [
       "3"
      ]
     },
     "execution_count": 26,
     "metadata": {},
     "output_type": "execute_result"
    }
   ],
   "source": [
    "editDistance('GCTGATCGATCGTACG', genome)"
   ]
  },
  {
   "cell_type": "code",
   "execution_count": 27,
   "id": "ded53138",
   "metadata": {},
   "outputs": [
    {
     "data": {
      "text/plain": [
       "2"
      ]
     },
     "execution_count": 27,
     "metadata": {},
     "output_type": "execute_result"
    }
   ],
   "source": [
    "editDistance('GATTTACCAGATTGAG', genome)"
   ]
  },
  {
   "cell_type": "code",
   "execution_count": 28,
   "id": "6be67bc7",
   "metadata": {},
   "outputs": [
    {
     "data": {
      "text/plain": [
       "2"
      ]
     },
     "execution_count": 28,
     "metadata": {},
     "output_type": "execute_result"
    }
   ],
   "source": [
    "editDistance('GCGTATGC', 'TATTGGCTATACGGTT')"
   ]
  },
  {
   "cell_type": "code",
   "execution_count": 29,
   "id": "46db8ac9",
   "metadata": {},
   "outputs": [],
   "source": [
    "def readFastq(filename):\n",
    "    sequences = []\n",
    "    qualities = []\n",
    "    with open(filename) as fh:\n",
    "        while True:\n",
    "            fh.readline() # skip name line\n",
    "            seq = fh.readline().rstrip() # read base sequence\n",
    "            fh.readline() # skip placeholder line\n",
    "            qual = fh.readline().rstrip() # base quality line\n",
    "            if len(seq) == 0:\n",
    "                break\n",
    "            sequences.append(seq)\n",
    "            qualities.append(qual)\n",
    "    return sequences"
   ]
  },
  {
   "cell_type": "code",
   "execution_count": 66,
   "id": "fc7bfc43",
   "metadata": {},
   "outputs": [],
   "source": [
    "reads = readFastq('ERR266411_1.for_asm.fastq')\n",
    "# reads = ['CGTACG', 'TACGTA', 'GTACGT', 'ACGTAC', 'GTACGA', 'TACGAT']"
   ]
  },
  {
   "cell_type": "code",
   "execution_count": 67,
   "id": "6ee729be",
   "metadata": {},
   "outputs": [],
   "source": [
    "def overlap(s, p, min_len=3):\n",
    "    start = 0\n",
    "    \n",
    "    while True:\n",
    "        start = s.find(p[:min_len], start)\n",
    "        if start == -1:\n",
    "            return 0\n",
    "        \n",
    "        if p.startswith(s[start:]):\n",
    "            return len(s) - start\n",
    "    \n",
    "        start += 1"
   ]
  },
  {
   "cell_type": "code",
   "execution_count": 68,
   "id": "4ded4863",
   "metadata": {},
   "outputs": [],
   "source": [
    "from collections import defaultdict\n",
    "def map_kmers(reads, k):\n",
    "    kmer = defaultdict(set)    \n",
    "    for read in reads:        \n",
    "        for i in range(len(read) - k + 1):\n",
    "            kmer[read[i:i+k]].add(read)\n",
    "        \n",
    "    \n",
    "    return kmer"
   ]
  },
  {
   "cell_type": "code",
   "execution_count": 69,
   "id": "1d13da7e",
   "metadata": {},
   "outputs": [],
   "source": [
    "kmer_map = map_kmers(reads, 30)\n",
    "# kmer_map = map_kmers(reads, 5)"
   ]
  },
  {
   "cell_type": "code",
   "execution_count": 70,
   "id": "b00ad981",
   "metadata": {},
   "outputs": [],
   "source": [
    "from itertools import permutations\n",
    "def overlaps(reads, k=3):\n",
    "    olaps = dict()\n",
    "    for a, b in permutations(reads, 2):\n",
    "        suffix = a[-k:]\n",
    "        if b in kmer_map[suffix]:\n",
    "            olap = overlap(a, b)\n",
    "            if olap > 0:\n",
    "                olaps[(a, b)] = olap            \n",
    "    return olaps  "
   ]
  },
  {
   "cell_type": "code",
   "execution_count": 73,
   "id": "10944a66",
   "metadata": {},
   "outputs": [
    {
     "name": "stdout",
     "output_type": "stream",
     "text": [
      "CPU times: user 20.9 s, sys: 98.8 ms, total: 21 s\n",
      "Wall time: 21 s\n"
     ]
    }
   ],
   "source": [
    "%%time\n",
    "laps = overlaps(reads, 30)"
   ]
  },
  {
   "cell_type": "code",
   "execution_count": 78,
   "id": "cf146e78",
   "metadata": {},
   "outputs": [
    {
     "name": "stdout",
     "output_type": "stream",
     "text": [
      "923626\n",
      "923626\n"
     ]
    }
   ],
   "source": [
    "count = 0\n",
    "for pair, v in laps.items():\n",
    "    one, other = pair\n",
    "    if one != other:\n",
    "        count += 1\n",
    "print(count)\n",
    "print(len(laps))\n"
   ]
  },
  {
   "cell_type": "code",
   "execution_count": null,
   "id": "c82a4d3e",
   "metadata": {},
   "outputs": [],
   "source": []
  }
 ],
 "metadata": {
  "kernelspec": {
   "display_name": "Python 3 (ipykernel)",
   "language": "python",
   "name": "python3"
  },
  "language_info": {
   "codemirror_mode": {
    "name": "ipython",
    "version": 3
   },
   "file_extension": ".py",
   "mimetype": "text/x-python",
   "name": "python",
   "nbconvert_exporter": "python",
   "pygments_lexer": "ipython3",
   "version": "3.9.7"
  }
 },
 "nbformat": 4,
 "nbformat_minor": 5
}
