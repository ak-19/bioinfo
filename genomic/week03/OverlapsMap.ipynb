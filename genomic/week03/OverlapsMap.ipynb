{
 "cells": [
  {
   "cell_type": "code",
   "execution_count": 4,
   "id": "bf4ae1a1",
   "metadata": {},
   "outputs": [],
   "source": [
    "def overlap(s, p, min_len=3):\n",
    "    start = 0\n",
    "    \n",
    "    while True:\n",
    "        start = s.find(p[:min_len], start)\n",
    "        if start == -1:\n",
    "            return 0\n",
    "        \n",
    "        if p.startswith(s[start:]):\n",
    "            return len(s) - start\n",
    "    \n",
    "        start += 1"
   ]
  },
  {
   "cell_type": "code",
   "execution_count": 5,
   "id": "7bb45c5f",
   "metadata": {},
   "outputs": [],
   "source": [
    "from itertools import permutations\n",
    "def overlaps(reads, k=3):\n",
    "    olaps = dict()\n",
    "    for a, b in permutations(reads, 2):\n",
    "        olap = overlap(a, b)\n",
    "        if olap > 0:\n",
    "            olaps[(a, b)] = olap            \n",
    "    return olaps    "
   ]
  },
  {
   "cell_type": "code",
   "execution_count": 8,
   "id": "acfcf82d",
   "metadata": {},
   "outputs": [
    {
     "data": {
      "text/plain": [
       "{('ACGTCTACGT', 'ACGTCGTAAA'): 4, ('ACGTCGTAAA', 'AAATCGTTGA'): 3}"
      ]
     },
     "execution_count": 8,
     "metadata": {},
     "output_type": "execute_result"
    }
   ],
   "source": [
    "reads = ['ACGTCTACGT', 'ACGTCGTAAA', 'AAATCGTTGA']\n",
    "overlaps(reads)"
   ]
  },
  {
   "cell_type": "code",
   "execution_count": null,
   "id": "cceb5aa0",
   "metadata": {},
   "outputs": [],
   "source": []
  }
 ],
 "metadata": {
  "kernelspec": {
   "display_name": "Python 3 (ipykernel)",
   "language": "python",
   "name": "python3"
  },
  "language_info": {
   "codemirror_mode": {
    "name": "ipython",
    "version": 3
   },
   "file_extension": ".py",
   "mimetype": "text/x-python",
   "name": "python",
   "nbconvert_exporter": "python",
   "pygments_lexer": "ipython3",
   "version": "3.9.7"
  }
 },
 "nbformat": 4,
 "nbformat_minor": 5
}
