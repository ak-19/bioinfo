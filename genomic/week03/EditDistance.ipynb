{
 "cells": [
  {
   "cell_type": "code",
   "execution_count": 1,
   "id": "88054d2a",
   "metadata": {},
   "outputs": [],
   "source": [
    "def EditDistanceRecursive(a, b):\n",
    "    if len(a) == 0:\n",
    "        return len(b)\n",
    "    if len(b) == 0:\n",
    "        return len(a)\n",
    "    \n",
    "    delta = 1 if a[-1] != b[-1] else 0\n",
    "    substitution = EditDistanceRecursive(a[:-1], b[:-1]) + delta    \n",
    "    deletion = EditDistanceRecursive(a[:-1], b) + 1\n",
    "    insertion = EditDistanceRecursive(a, b[:-1]) + 1\n",
    "    return min(substitution, deletion, insertion)        "
   ]
  },
  {
   "cell_type": "code",
   "execution_count": 11,
   "id": "6ea6b7ea",
   "metadata": {},
   "outputs": [
    {
     "name": "stdout",
     "output_type": "stream",
     "text": [
      "5\n"
     ]
    }
   ],
   "source": [
    "print(EditDistanceRecursive('Shakespear','Shake'))\n"
   ]
  },
  {
   "cell_type": "code",
   "execution_count": 12,
   "id": "8538af06",
   "metadata": {},
   "outputs": [],
   "source": [
    "def EditDistance(a, b):\n",
    "    R = len(a)    \n",
    "    C = len(b)\n",
    "    dp = [[0]* (C + 1) for _ in range(R + 1)]\n",
    "    for i in range(R + 1): dp[i][0] = i\n",
    "    for i in range(C + 1): dp[0][i] = i\n",
    "        \n",
    "    for r in range(1, R + 1):\n",
    "        for c in range(1, C + 1):\n",
    "            dp[r][c] = dp[r-1][c-1] + int(a[r-1] != b[c-1])\n",
    "            dp[r][c] = min(dp[r][c], dp[r][c - 1] + 1, dp[r - 1][c] + 1)\n",
    "            \n",
    "            \n",
    "    return dp[R][C]\n",
    "    \n",
    "    "
   ]
  },
  {
   "cell_type": "code",
   "execution_count": 13,
   "id": "d1bcdef8",
   "metadata": {},
   "outputs": [
    {
     "name": "stdout",
     "output_type": "stream",
     "text": [
      "10\n",
      "CPU times: user 2.35 ms, sys: 190 µs, total: 2.54 ms\n",
      "Wall time: 2.02 ms\n"
     ]
    }
   ],
   "source": [
    "%%time\n",
    "print(EditDistance('Shakespeares book are cool','Shake boo r cool'))"
   ]
  },
  {
   "cell_type": "code",
   "execution_count": null,
   "id": "aee823d8",
   "metadata": {},
   "outputs": [],
   "source": []
  }
 ],
 "metadata": {
  "kernelspec": {
   "display_name": "Python 3 (ipykernel)",
   "language": "python",
   "name": "python3"
  },
  "language_info": {
   "codemirror_mode": {
    "name": "ipython",
    "version": 3
   },
   "file_extension": ".py",
   "mimetype": "text/x-python",
   "name": "python",
   "nbconvert_exporter": "python",
   "pygments_lexer": "ipython3",
   "version": "3.9.7"
  }
 },
 "nbformat": 4,
 "nbformat_minor": 5
}
