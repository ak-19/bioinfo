{
 "cells": [
  {
   "cell_type": "code",
   "execution_count": 17,
   "id": "8538af06",
   "metadata": {},
   "outputs": [],
   "source": [
    "alpha = ['A', 'C', 'G', 'T']\n",
    "score = [[0, 4, 2, 4, 8], \n",
    "         [4, 0, 4, 2, 8], \n",
    "         [2, 4, 0, 4, 8], \n",
    "         [4, 2, 4, 0, 8], \n",
    "         [8, 8, 8, 8, 8]]\n",
    "\n",
    "def global_algnment(a, b):\n",
    "    R = len(a)    \n",
    "    C = len(b)\n",
    "    dp = [[0]* (C + 1) for _ in range(R + 1)]\n",
    "    for i in range(1, R + 1): \n",
    "        dp[i][0] = dp[i-1][0] + score[alpha.index(a[i-1])][-1]\n",
    "    for i in range(1, C + 1): \n",
    "        dp[0][i] = dp[0][i - 1] + score[-1][alpha.index(b[i-1])]\n",
    "        \n",
    "    for r in range(1, R + 1):\n",
    "        for c in range(1, C + 1):            \n",
    "            dp[r][c] = dp[r-1][c-1] + score[alpha.index(a[r-1])][alpha.index(b[c-1])]\n",
    "            \n",
    "            diffVer = dp[r - 1][c] + + score[alpha.index(a[r-1])][-1]\n",
    "            diffHor = dp[r][c - 1] + + score[-1][alpha.index(b[c-1])]\n",
    "            \n",
    "            dp[r][c] = min(dp[r][c], diffHor, diffVer)\n",
    "            \n",
    "            \n",
    "    return dp[R][C]\n",
    "    \n",
    "    "
   ]
  },
  {
   "cell_type": "code",
   "execution_count": 24,
   "id": "aee823d8",
   "metadata": {},
   "outputs": [
    {
     "data": {
      "text/plain": [
       "2"
      ]
     },
     "execution_count": 24,
     "metadata": {},
     "output_type": "execute_result"
    }
   ],
   "source": [
    "a = 'ACGTAAT'\n",
    "b = 'ACGTAGT'\n",
    "global_algnment(a, b)"
   ]
  },
  {
   "cell_type": "code",
   "execution_count": null,
   "id": "d0acf106",
   "metadata": {},
   "outputs": [],
   "source": []
  },
  {
   "cell_type": "code",
   "execution_count": null,
   "id": "668fa405",
   "metadata": {},
   "outputs": [],
   "source": []
  }
 ],
 "metadata": {
  "kernelspec": {
   "display_name": "Python 3 (ipykernel)",
   "language": "python",
   "name": "python3"
  },
  "language_info": {
   "codemirror_mode": {
    "name": "ipython",
    "version": 3
   },
   "file_extension": ".py",
   "mimetype": "text/x-python",
   "name": "python",
   "nbconvert_exporter": "python",
   "pygments_lexer": "ipython3",
   "version": "3.9.7"
  }
 },
 "nbformat": 4,
 "nbformat_minor": 5
}
