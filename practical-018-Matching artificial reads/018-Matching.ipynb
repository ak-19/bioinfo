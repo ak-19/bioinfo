{
 "cells": [
  {
   "cell_type": "code",
   "execution_count": 38,
   "id": "425e5f5f",
   "metadata": {},
   "outputs": [],
   "source": [
    "from random import randint\n",
    "def naive(pattern, text):\n",
    "    P, T = len(pattern), len(text)\n",
    "    occurence = []\n",
    "    \n",
    "    for i in range(T - P + 1):\n",
    "        j = 0 \n",
    "        while j < P:\n",
    "            if pattern[j] != text[j + i]: break\n",
    "            j += 1\n",
    "            \n",
    "        if j == P: occurence.append(i)\n",
    "    \n",
    "    return occurence"
   ]
  },
  {
   "cell_type": "code",
   "execution_count": 39,
   "id": "e558bf6b",
   "metadata": {},
   "outputs": [],
   "source": [
    "def readGenome(filename):\n",
    "    genome = ''\n",
    "    with open(filename, 'r') as f:\n",
    "        for line in f:\n",
    "            # ignore header line with genome information\n",
    "            if not line[0] == '>':\n",
    "                genome += line.rstrip()\n",
    "    return genome"
   ]
  },
  {
   "cell_type": "code",
   "execution_count": 41,
   "id": "65eee6c6",
   "metadata": {},
   "outputs": [],
   "source": [
    "def generate_random_reads():\n",
    "    reads = []\n",
    "    \n",
    "    for _ in range(100):\n",
    "        index = randint(0, G-10)\n",
    "        reads.append(genome[index:index + 10])\n",
    "    return reads"
   ]
  },
  {
   "cell_type": "code",
   "execution_count": 31,
   "id": "2d515f3c",
   "metadata": {},
   "outputs": [],
   "source": [
    "def readFastq(filename):\n",
    "    sequences = []\n",
    "    qualities = []\n",
    "    with open(filename) as fh:\n",
    "        while True:\n",
    "            fh.readline() # skip name line\n",
    "            seq = fh.readline().rstrip() # read base sequence\n",
    "            fh.readline() # skip placeholder line\n",
    "            qual = fh.readline().rstrip() # base quality line\n",
    "            if len(seq) == 0:\n",
    "                break\n",
    "            sequences.append(seq)\n",
    "            qualities.append(qual)\n",
    "    return sequences, qualities"
   ]
  },
  {
   "cell_type": "code",
   "execution_count": 42,
   "id": "9918d9a3",
   "metadata": {},
   "outputs": [],
   "source": [
    "def reverseComplement(s):\n",
    "    complement = {'A': 'T', 'C': 'G', 'G': 'C', 'T': 'A', 'N': 'N'}\n",
    "    t = ''\n",
    "    for base in s:\n",
    "        t = complement[base] + t\n",
    "    return t"
   ]
  },
  {
   "cell_type": "code",
   "execution_count": 43,
   "id": "4891fbbd",
   "metadata": {},
   "outputs": [
    {
     "name": "stdout",
     "output_type": "stream",
     "text": [
      "--2021-11-29 00:23:36--  https://d28rh4a8wq0iu5.cloudfront.net/ads1/data/lambda_virus.fa\n",
      "Resolving d28rh4a8wq0iu5.cloudfront.net (d28rh4a8wq0iu5.cloudfront.net)... 99.86.247.38, 99.86.247.6, 99.86.247.194, ...\n",
      "Connecting to d28rh4a8wq0iu5.cloudfront.net (d28rh4a8wq0iu5.cloudfront.net)|99.86.247.38|:443... connected.\n",
      "HTTP request sent, awaiting response... 200 OK\n",
      "Length: 49270 (48K) [application/octet-stream]\n",
      "Saving to: ‘lambda_virus.fa’\n",
      "\n",
      "lambda_virus.fa     100%[===================>]  48,12K  --.-KB/s    in 0,1s    \n",
      "\n",
      "2021-11-29 00:23:37 (431 KB/s) - ‘lambda_virus.fa’ saved [49270/49270]\n",
      "\n"
     ]
    }
   ],
   "source": [
    "!wget https://d28rh4a8wq0iu5.cloudfront.net/ads1/data/lambda_virus.fa"
   ]
  },
  {
   "cell_type": "code",
   "execution_count": 45,
   "id": "3b66f01c",
   "metadata": {},
   "outputs": [],
   "source": [
    "genome = readGenome('lambda_virus.fa')"
   ]
  },
  {
   "cell_type": "code",
   "execution_count": 47,
   "id": "ab01e14f",
   "metadata": {},
   "outputs": [
    {
     "data": {
      "text/plain": [
       "48502"
      ]
     },
     "execution_count": 47,
     "metadata": {},
     "output_type": "execute_result"
    }
   ],
   "source": [
    "len(genome)"
   ]
  },
  {
   "cell_type": "code",
   "execution_count": null,
   "id": "1b1b8976",
   "metadata": {},
   "outputs": [],
   "source": []
  }
 ],
 "metadata": {
  "kernelspec": {
   "display_name": "Python 3 (ipykernel)",
   "language": "python",
   "name": "python3"
  },
  "language_info": {
   "codemirror_mode": {
    "name": "ipython",
    "version": 3
   },
   "file_extension": ".py",
   "mimetype": "text/x-python",
   "name": "python",
   "nbconvert_exporter": "python",
   "pygments_lexer": "ipython3",
   "version": "3.9.7"
  }
 },
 "nbformat": 4,
 "nbformat_minor": 5
}
